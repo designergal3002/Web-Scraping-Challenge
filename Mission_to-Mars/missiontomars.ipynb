{
 "cells": [
  {
   "cell_type": "code",
   "execution_count": 1,
   "id": "81bc39b8",
   "metadata": {},
   "outputs": [],
   "source": [
    "# Dependencies\n",
    "from bs4 import BeautifulSoup as bs\n",
    "import requests\n",
    "import os\n",
    "import pandas as pd\n",
    "from splinter import Browser\n",
    "from webdriver_manager.chrome import ChromeDriverManager\n",
    "import pymongo"
   ]
  },
  {
   "cell_type": "code",
   "execution_count": null,
   "id": "409540ad",
   "metadata": {},
   "outputs": [],
   "source": [
    "# Set up executable path to browser with webdriver_manager\n",
    "executable_path = {'executable_path': ChromeDriverManager().install()}\n",
    "browser = Browser('chrome', **executable_path, headless=False)"
   ]
  },
  {
   "cell_type": "code",
   "execution_count": null,
   "id": "68710671",
   "metadata": {},
   "outputs": [],
   "source": [
    "# Navigate to Mars News page\n",
    "browser.visit('https://redplanetscience.com/')\n",
    "\n",
    "# Create HTML object\n",
    "html = browser.html\n",
    "\n",
    "# Create BS object, parse with html.parser\n",
    "page = bs(html, 'html.parser')\n",
    "\n",
    "# Find News Title (class = content_title), assign to variable\n",
    "news_title = page.find('div', class_='content_title').text\n",
    "print(news_title)\n",
    "\n",
    "# Find Paragraph Text (class = article_teaser_body), assign to variable\n",
    "news_p = page.find('div', class_='article_teaser_body').text\n",
    "print(news_p)"
   ]
  },
  {
   "cell_type": "code",
   "execution_count": null,
   "id": "ebae9845",
   "metadata": {},
   "outputs": [],
   "source": [
    "# Navigate to Featured Space Image page\n",
    "browser.visit('https://spaceimages-mars.com/')\n",
    "\n",
    "# Create HTML object\n",
    "html = browser.html\n",
    "\n",
    "# Create BS object, parse with html.parser\n",
    "page = bs(html, 'html.parser')\n",
    "\n",
    "# Find current Featured Mars Image (class = headerimage), assign to variable\n",
    "images = page.find('img', class_='headerimage fade-in')['src']\n",
    "print(images)\n",
    "\n",
    "featured_image_url = f'https://spaceimages-mars.com/{images}'\n",
    "print(featured_image_url)"
   ]
  },
  {
   "cell_type": "code",
   "execution_count": null,
   "id": "1a73e489",
   "metadata": {},
   "outputs": [],
   "source": [
    "# Use pd.read_html to scrape the tables from the Mars Facts webpage into a \"tables\" variable\n",
    "tables = pd.read_html(\"https://galaxyfacts-mars.com/\", header=0)\n",
    "# uncomment to display\n",
    "#print(tables)\n",
    "\n",
    "# Set the first table into a DF \n",
    "mars_facts_df = tables[0]\n",
    "mars_facts_df.set_index(\"Mars - Earth Comparison\", inplace=True) \n",
    "print(mars_facts_df)\n",
    "\n",
    "# Use .to_html() to convert DF to html table string\n",
    "mars_facts_html = mars_facts_df.to_html()\n",
    "mars_facts_html"
   ]
  },
  {
   "cell_type": "code",
   "execution_count": null,
   "id": "9d9718e5",
   "metadata": {},
   "outputs": [],
   "source": [
    "# Navigate to Astrogeology page\n",
    "browser.visit('https://marshemispheres.com/')\n",
    "\n",
    "# Create HTML object\n",
    "html = browser.html\n",
    "\n",
    "# Create BS object, parse with html.parser\n",
    "page = bs(html, 'html.parser')\n",
    "\n",
    "# Locate each of the four hemisphere sections in the html \n",
    "locations = page.find_all(\"div\", class_=\"description\")\n",
    "# uncomment to display\n",
    "#print(locations)\n",
    "\n",
    "# Create empty list to hold the img_url/title dictionaries\n",
    "hemisphere_urls_titles_list = []\n",
    "\n",
    "# Run through the html section locations for each hemisphere...\n",
    "for location in locations:\n",
    "    \n",
    "    # Find the link to the full res image\n",
    "    img_link = location.find('a')['href']\n",
    "    \n",
    "    # Navigate to the page for full res image, create BS object to parse through\n",
    "    browser.visit('https://marshemispheres.com/' + img_link)\n",
    "    html = browser.html\n",
    "    page = bs(html, 'html.parser')\n",
    "    \n",
    "    # Find the image source link (img section, class 'wide-image', save full img_url\n",
    "    img_src = page.find(\"img\", class_='wide-image')[\"src\"]\n",
    "    img_url = 'https://marshemispheres.com/' + img_src\n",
    "    \n",
    "    # Find the title for the image (h2 within the div section, class 'cover')\n",
    "    # --strip the h2 text, split off the last word with rsplit(), save the hemisphere title\n",
    "    hemisphere_title = page.find(\"div\", class_=\"cover\").find('h2').text.strip().rsplit(' ', 1)[0] \n",
    "    \n",
    "    # uncomment to display\n",
    "    #print(hemisphere_title)\n",
    "    #print(img_url)\n",
    "    \n",
    "    # Create the hemisphere dictionary (title: ... , img_url: ...), append to dictionary list\n",
    "    hemisphere_dict = {'title': hemisphere_title, 'img_url': img_url}\n",
    "    hemisphere_urls_titles_list.append(hemisphere_dict)\n",
    "    \n",
    "hemisphere_urls_titles_list"
   ]
  },
  {
   "cell_type": "code",
   "execution_count": null,
   "id": "42ab4bb6",
   "metadata": {},
   "outputs": [],
   "source": []
  }
 ],
 "metadata": {
  "kernelspec": {
   "display_name": "Python [conda env:root] *",
   "language": "python",
   "name": "conda-root-py"
  },
  "language_info": {
   "codemirror_mode": {
    "name": "ipython",
    "version": 3
   },
   "file_extension": ".py",
   "mimetype": "text/x-python",
   "name": "python",
   "nbconvert_exporter": "python",
   "pygments_lexer": "ipython3",
   "version": "3.8.8"
  }
 },
 "nbformat": 4,
 "nbformat_minor": 5
}
